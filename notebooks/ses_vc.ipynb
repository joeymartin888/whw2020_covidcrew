{
 "cells": [
  {
   "cell_type": "markdown",
   "metadata": {},
   "source": [
    "in this notebook, I walk through how to download ACS ses data from CensusData package in python. At the bottom are some questions for next steps. -val"
   ]
  },
  {
   "cell_type": "markdown",
   "metadata": {},
   "source": [
    "## helpful documentation: https://jtleider.github.io/censusdata/"
   ]
  },
  {
   "cell_type": "markdown",
   "metadata": {},
   "source": [
    "# 1. Install CensusData Package"
   ]
  },
  {
   "cell_type": "code",
   "execution_count": 1,
   "metadata": {},
   "outputs": [
    {
     "name": "stdout",
     "output_type": "stream",
     "text": [
      "Collecting CensusData\n",
      "  Downloading CensusData-1.8.tar.gz (23.2 MB)\n",
      "\u001b[K     |████████████████████████████████| 23.2 MB 3.2 MB/s eta 0:00:01\n",
      "\u001b[?25hRequirement already satisfied: pandas in /opt/conda/envs/whw/lib/python3.6/site-packages (from CensusData) (1.0.5)\n",
      "Requirement already satisfied: requests in /opt/conda/envs/whw/lib/python3.6/site-packages (from CensusData) (2.24.0)\n",
      "Requirement already satisfied: python-dateutil>=2.6.1 in /opt/conda/envs/whw/lib/python3.6/site-packages (from pandas->CensusData) (2.8.1)\n",
      "Requirement already satisfied: pytz>=2017.2 in /opt/conda/envs/whw/lib/python3.6/site-packages (from pandas->CensusData) (2020.1)\n",
      "Requirement already satisfied: numpy>=1.13.3 in /opt/conda/envs/whw/lib/python3.6/site-packages (from pandas->CensusData) (1.19.1)\n",
      "Requirement already satisfied: certifi>=2017.4.17 in /opt/conda/envs/whw/lib/python3.6/site-packages (from requests->CensusData) (2020.6.20)\n",
      "Requirement already satisfied: chardet<4,>=3.0.2 in /opt/conda/envs/whw/lib/python3.6/site-packages (from requests->CensusData) (3.0.4)\n",
      "Requirement already satisfied: idna<3,>=2.5 in /opt/conda/envs/whw/lib/python3.6/site-packages (from requests->CensusData) (2.10)\n",
      "Requirement already satisfied: urllib3!=1.25.0,!=1.25.1,<1.26,>=1.21.1 in /opt/conda/envs/whw/lib/python3.6/site-packages (from requests->CensusData) (1.25.10)\n",
      "Requirement already satisfied: six>=1.5 in /opt/conda/envs/whw/lib/python3.6/site-packages (from python-dateutil>=2.6.1->pandas->CensusData) (1.15.0)\n",
      "Building wheels for collected packages: CensusData\n",
      "  Building wheel for CensusData (setup.py) ... \u001b[?25ldone\n",
      "\u001b[?25h  Created wheel for CensusData: filename=CensusData-1.8-py3-none-any.whl size=24706120 sha256=337b809ecbbb8de0de0963b7d687cfd7ac199796e3bd79f20a6be522a194c899\n",
      "  Stored in directory: /home/jovyan/.cache/pip/wheels/eb/74/d3/75a737e0305a81270bd9a0129077c208a4334e3c202e9d4274\n",
      "Successfully built CensusData\n",
      "Installing collected packages: CensusData\n",
      "Successfully installed CensusData-1.8\n"
     ]
    }
   ],
   "source": [
    "# will need to install every few hours, consider making a covidcrew env. to keep installed packages\n",
    "!pip install CensusData"
   ]
  },
  {
   "cell_type": "code",
   "execution_count": 7,
   "metadata": {},
   "outputs": [],
   "source": [
    "# We also need to import these two\n",
    "\n",
    "import pandas as pd\n",
    "import censusdata"
   ]
  },
  {
   "cell_type": "markdown",
   "metadata": {},
   "source": [
    "# 2. Determine the data you want:"
   ]
  },
  {
   "cell_type": "markdown",
   "metadata": {},
   "source": [
    "### To find the code for the marker you're interested, download and look at the excel sheet 'table shells' at https://www.census.gov/programs-surveys/acs/technical-documentation/summary-file-documentation.html"
   ]
  },
  {
   "cell_type": "code",
   "execution_count": 18,
   "metadata": {},
   "outputs": [
    {
     "data": {
      "text/html": [
       "<div>\n",
       "<style scoped>\n",
       "    .dataframe tbody tr th:only-of-type {\n",
       "        vertical-align: middle;\n",
       "    }\n",
       "\n",
       "    .dataframe tbody tr th {\n",
       "        vertical-align: top;\n",
       "    }\n",
       "\n",
       "    .dataframe thead th {\n",
       "        text-align: right;\n",
       "    }\n",
       "</style>\n",
       "<table border=\"1\" class=\"dataframe\">\n",
       "  <thead>\n",
       "    <tr style=\"text-align: right;\">\n",
       "      <th></th>\n",
       "      <th>Table ID</th>\n",
       "      <th>Line</th>\n",
       "      <th>UniqueID</th>\n",
       "      <th>Stub</th>\n",
       "      <th>Data Release</th>\n",
       "    </tr>\n",
       "  </thead>\n",
       "  <tbody>\n",
       "    <tr>\n",
       "      <th>0</th>\n",
       "      <td></td>\n",
       "      <td>NaN</td>\n",
       "      <td>NaN</td>\n",
       "      <td>NaN</td>\n",
       "      <td>NaN</td>\n",
       "    </tr>\n",
       "    <tr>\n",
       "      <th>1</th>\n",
       "      <td>B00001</td>\n",
       "      <td>NaN</td>\n",
       "      <td>NaN</td>\n",
       "      <td>UNWEIGHTED SAMPLE COUNT OF THE POPULATION</td>\n",
       "      <td>1,5</td>\n",
       "    </tr>\n",
       "    <tr>\n",
       "      <th>2</th>\n",
       "      <td>B00001</td>\n",
       "      <td>NaN</td>\n",
       "      <td>NaN</td>\n",
       "      <td>Universe:  Total population</td>\n",
       "      <td>NaN</td>\n",
       "    </tr>\n",
       "    <tr>\n",
       "      <th>3</th>\n",
       "      <td>B00001</td>\n",
       "      <td>1</td>\n",
       "      <td>B00001_001</td>\n",
       "      <td>Total</td>\n",
       "      <td>NaN</td>\n",
       "    </tr>\n",
       "    <tr>\n",
       "      <th>4</th>\n",
       "      <td>NaN</td>\n",
       "      <td></td>\n",
       "      <td>NaN</td>\n",
       "      <td>NaN</td>\n",
       "      <td>NaN</td>\n",
       "    </tr>\n",
       "    <tr>\n",
       "      <th>5</th>\n",
       "      <td>B00002</td>\n",
       "      <td></td>\n",
       "      <td>NaN</td>\n",
       "      <td>UNWEIGHTED SAMPLE HOUSING UNITS</td>\n",
       "      <td>1,5</td>\n",
       "    </tr>\n",
       "    <tr>\n",
       "      <th>6</th>\n",
       "      <td>B00002</td>\n",
       "      <td></td>\n",
       "      <td>NaN</td>\n",
       "      <td>Universe:  Housing units</td>\n",
       "      <td>NaN</td>\n",
       "    </tr>\n",
       "    <tr>\n",
       "      <th>7</th>\n",
       "      <td>B00002</td>\n",
       "      <td>1</td>\n",
       "      <td>B00002_001</td>\n",
       "      <td>Total</td>\n",
       "      <td>NaN</td>\n",
       "    </tr>\n",
       "    <tr>\n",
       "      <th>8</th>\n",
       "      <td>NaN</td>\n",
       "      <td></td>\n",
       "      <td>NaN</td>\n",
       "      <td></td>\n",
       "      <td>NaN</td>\n",
       "    </tr>\n",
       "    <tr>\n",
       "      <th>9</th>\n",
       "      <td>B01001</td>\n",
       "      <td></td>\n",
       "      <td>NaN</td>\n",
       "      <td>SEX BY AGE</td>\n",
       "      <td>1,5</td>\n",
       "    </tr>\n",
       "  </tbody>\n",
       "</table>\n",
       "</div>"
      ],
      "text/plain": [
       "  Table ID Line    UniqueID                                       Stub  \\\n",
       "0           NaN         NaN                                        NaN   \n",
       "1   B00001  NaN         NaN  UNWEIGHTED SAMPLE COUNT OF THE POPULATION   \n",
       "2   B00001  NaN         NaN                Universe:  Total population   \n",
       "3   B00001    1  B00001_001                                     Total    \n",
       "4      NaN              NaN                                        NaN   \n",
       "5   B00002              NaN            UNWEIGHTED SAMPLE HOUSING UNITS   \n",
       "6   B00002              NaN                   Universe:  Housing units   \n",
       "7   B00002    1  B00002_001                                      Total   \n",
       "8      NaN              NaN                                              \n",
       "9   B01001              NaN                                 SEX BY AGE   \n",
       "\n",
       "  Data Release  \n",
       "0          NaN  \n",
       "1          1,5  \n",
       "2          NaN  \n",
       "3          NaN  \n",
       "4          NaN  \n",
       "5          1,5  \n",
       "6          NaN  \n",
       "7          NaN  \n",
       "8          NaN  \n",
       "9          1,5  "
      ]
     },
     "execution_count": 18,
     "metadata": {},
     "output_type": "execute_result"
    }
   ],
   "source": [
    "# here's what that table shells sheet looks like\n",
    "table_shells = pd.read_excel('ACS2018_Table_Shells.xlsx')\n",
    "table_shells[:10]"
   ]
  },
  {
   "cell_type": "code",
   "execution_count": 24,
   "metadata": {},
   "outputs": [],
   "source": [
    "markers_codes = ['B01001_001E', 'B01002_001E', 'B19013_001E', 'B02001_002E','B02001_003E','B02001_004E','B02001_005E','B02001_006E', 'B02001_007E','B02001_008E']"
   ]
  },
  {
   "cell_type": "code",
   "execution_count": 25,
   "metadata": {},
   "outputs": [],
   "source": [
    "markers = ['population size', 'medium age', 'medium household income', 'White alone', 'Black or African American alone','American Indian and Alaska Native alone',\n",
    "'Asian alone', 'Native Hawaiian and Other Pacific Islander alone','Some other race alone','Two or more races']\n"
   ]
  },
  {
   "cell_type": "markdown",
   "metadata": {},
   "source": [
    "# 3. Determine the geographies you want"
   ]
  },
  {
   "cell_type": "code",
   "execution_count": 19,
   "metadata": {},
   "outputs": [
    {
     "data": {
      "text/plain": [
       "{'Alabama': censusgeo((('state', '01'),)),\n",
       " 'Alaska': censusgeo((('state', '02'),)),\n",
       " 'Arizona': censusgeo((('state', '04'),)),\n",
       " 'Arkansas': censusgeo((('state', '05'),)),\n",
       " 'California': censusgeo((('state', '06'),)),\n",
       " 'Colorado': censusgeo((('state', '08'),)),\n",
       " 'Connecticut': censusgeo((('state', '09'),)),\n",
       " 'Delaware': censusgeo((('state', '10'),)),\n",
       " 'District of Columbia': censusgeo((('state', '11'),)),\n",
       " 'Florida': censusgeo((('state', '12'),)),\n",
       " 'Georgia': censusgeo((('state', '13'),)),\n",
       " 'Hawaii': censusgeo((('state', '15'),)),\n",
       " 'Idaho': censusgeo((('state', '16'),)),\n",
       " 'Illinois': censusgeo((('state', '17'),)),\n",
       " 'Indiana': censusgeo((('state', '18'),)),\n",
       " 'Iowa': censusgeo((('state', '19'),)),\n",
       " 'Kansas': censusgeo((('state', '20'),)),\n",
       " 'Kentucky': censusgeo((('state', '21'),)),\n",
       " 'Louisiana': censusgeo((('state', '22'),)),\n",
       " 'Maine': censusgeo((('state', '23'),)),\n",
       " 'Maryland': censusgeo((('state', '24'),)),\n",
       " 'Massachusetts': censusgeo((('state', '25'),)),\n",
       " 'Michigan': censusgeo((('state', '26'),)),\n",
       " 'Minnesota': censusgeo((('state', '27'),)),\n",
       " 'Mississippi': censusgeo((('state', '28'),)),\n",
       " 'Missouri': censusgeo((('state', '29'),)),\n",
       " 'Montana': censusgeo((('state', '30'),)),\n",
       " 'Nebraska': censusgeo((('state', '31'),)),\n",
       " 'Nevada': censusgeo((('state', '32'),)),\n",
       " 'New Hampshire': censusgeo((('state', '33'),)),\n",
       " 'New Jersey': censusgeo((('state', '34'),)),\n",
       " 'New Mexico': censusgeo((('state', '35'),)),\n",
       " 'New York': censusgeo((('state', '36'),)),\n",
       " 'North Carolina': censusgeo((('state', '37'),)),\n",
       " 'North Dakota': censusgeo((('state', '38'),)),\n",
       " 'Ohio': censusgeo((('state', '39'),)),\n",
       " 'Oklahoma': censusgeo((('state', '40'),)),\n",
       " 'Oregon': censusgeo((('state', '41'),)),\n",
       " 'Pennsylvania': censusgeo((('state', '42'),)),\n",
       " 'Rhode Island': censusgeo((('state', '44'),)),\n",
       " 'South Carolina': censusgeo((('state', '45'),)),\n",
       " 'South Dakota': censusgeo((('state', '46'),)),\n",
       " 'Tennessee': censusgeo((('state', '47'),)),\n",
       " 'Texas': censusgeo((('state', '48'),)),\n",
       " 'Utah': censusgeo((('state', '49'),)),\n",
       " 'Vermont': censusgeo((('state', '50'),)),\n",
       " 'Virginia': censusgeo((('state', '51'),)),\n",
       " 'Washington': censusgeo((('state', '53'),)),\n",
       " 'West Virginia': censusgeo((('state', '54'),)),\n",
       " 'Wisconsin': censusgeo((('state', '55'),)),\n",
       " 'Wyoming': censusgeo((('state', '56'),)),\n",
       " 'Puerto Rico': censusgeo((('state', '72'),))}"
      ]
     },
     "execution_count": 19,
     "metadata": {},
     "output_type": "execute_result"
    }
   ],
   "source": [
    "# find the state code for MA\n",
    "censusdata.geographies(censusdata.censusgeo([('state', '*')]), 'acs5', 2015)"
   ]
  },
  {
   "cell_type": "markdown",
   "metadata": {},
   "source": [
    "### MA state code: 'Massachusetts': ('state', '25')"
   ]
  },
  {
   "cell_type": "code",
   "execution_count": 5,
   "metadata": {},
   "outputs": [
    {
     "data": {
      "text/plain": [
       "{'Barnstable County, Massachusetts': censusgeo((('state', '25'), ('county', '001'))),\n",
       " 'Berkshire County, Massachusetts': censusgeo((('state', '25'), ('county', '003'))),\n",
       " 'Bristol County, Massachusetts': censusgeo((('state', '25'), ('county', '005'))),\n",
       " 'Dukes County, Massachusetts': censusgeo((('state', '25'), ('county', '007'))),\n",
       " 'Essex County, Massachusetts': censusgeo((('state', '25'), ('county', '009'))),\n",
       " 'Franklin County, Massachusetts': censusgeo((('state', '25'), ('county', '011'))),\n",
       " 'Hampden County, Massachusetts': censusgeo((('state', '25'), ('county', '013'))),\n",
       " 'Hampshire County, Massachusetts': censusgeo((('state', '25'), ('county', '015'))),\n",
       " 'Middlesex County, Massachusetts': censusgeo((('state', '25'), ('county', '017'))),\n",
       " 'Nantucket County, Massachusetts': censusgeo((('state', '25'), ('county', '019'))),\n",
       " 'Norfolk County, Massachusetts': censusgeo((('state', '25'), ('county', '021'))),\n",
       " 'Plymouth County, Massachusetts': censusgeo((('state', '25'), ('county', '023'))),\n",
       " 'Suffolk County, Massachusetts': censusgeo((('state', '25'), ('county', '025'))),\n",
       " 'Worcester County, Massachusetts': censusgeo((('state', '25'), ('county', '027')))}"
      ]
     },
     "execution_count": 5,
     "metadata": {},
     "output_type": "execute_result"
    }
   ],
   "source": [
    "# find the city code for counties in MA\n",
    "censusdata.geographies(censusdata.censusgeo([('state','25'),('county', '*')]), 'acs5', 2015)"
   ]
  },
  {
   "cell_type": "markdown",
   "metadata": {},
   "source": [
    "### We're interested in Norfolk (021), Suffolk (025), and Middlesex (017)"
   ]
  },
  {
   "cell_type": "markdown",
   "metadata": {},
   "source": [
    "# 4. Download data you want"
   ]
  },
  {
   "cell_type": "markdown",
   "metadata": {},
   "source": [
    "### You can download data for the state of MA by county name "
   ]
  },
  {
   "cell_type": "code",
   "execution_count": 28,
   "metadata": {},
   "outputs": [
    {
     "data": {
      "text/html": [
       "<div>\n",
       "<style scoped>\n",
       "    .dataframe tbody tr th:only-of-type {\n",
       "        vertical-align: middle;\n",
       "    }\n",
       "\n",
       "    .dataframe tbody tr th {\n",
       "        vertical-align: top;\n",
       "    }\n",
       "\n",
       "    .dataframe thead th {\n",
       "        text-align: right;\n",
       "    }\n",
       "</style>\n",
       "<table border=\"1\" class=\"dataframe\">\n",
       "  <thead>\n",
       "    <tr style=\"text-align: right;\">\n",
       "      <th></th>\n",
       "      <th>population size</th>\n",
       "      <th>medium age</th>\n",
       "      <th>medium household income</th>\n",
       "      <th>White alone</th>\n",
       "      <th>Black or African American alone</th>\n",
       "      <th>American Indian and Alaska Native alone</th>\n",
       "      <th>Asian alone</th>\n",
       "      <th>Native Hawaiian and Other Pacific Islander alone</th>\n",
       "      <th>Some other race alone</th>\n",
       "      <th>Two or more races</th>\n",
       "    </tr>\n",
       "  </thead>\n",
       "  <tbody>\n",
       "    <tr>\n",
       "      <th>Norfolk County, Massachusetts: Summary level: 050, state:25&gt; county:021</th>\n",
       "      <td>687721</td>\n",
       "      <td>40.9</td>\n",
       "      <td>88262</td>\n",
       "      <td>555100</td>\n",
       "      <td>43069</td>\n",
       "      <td>564</td>\n",
       "      <td>66682</td>\n",
       "      <td>35</td>\n",
       "      <td>8096</td>\n",
       "      <td>14175</td>\n",
       "    </tr>\n",
       "  </tbody>\n",
       "</table>\n",
       "</div>"
      ],
      "text/plain": [
       "                                                    population size  \\\n",
       "Norfolk County, Massachusetts: Summary level: 0...           687721   \n",
       "\n",
       "                                                    medium age  \\\n",
       "Norfolk County, Massachusetts: Summary level: 0...        40.9   \n",
       "\n",
       "                                                    medium household income  \\\n",
       "Norfolk County, Massachusetts: Summary level: 0...                    88262   \n",
       "\n",
       "                                                    White alone  \\\n",
       "Norfolk County, Massachusetts: Summary level: 0...       555100   \n",
       "\n",
       "                                                    Black or African American alone  \\\n",
       "Norfolk County, Massachusetts: Summary level: 0...                            43069   \n",
       "\n",
       "                                                    American Indian and Alaska Native alone  \\\n",
       "Norfolk County, Massachusetts: Summary level: 0...                                      564   \n",
       "\n",
       "                                                    Asian alone  \\\n",
       "Norfolk County, Massachusetts: Summary level: 0...        66682   \n",
       "\n",
       "                                                    Native Hawaiian and Other Pacific Islander alone  \\\n",
       "Norfolk County, Massachusetts: Summary level: 0...                                                35   \n",
       "\n",
       "                                                    Some other race alone  \\\n",
       "Norfolk County, Massachusetts: Summary level: 0...                   8096   \n",
       "\n",
       "                                                    Two or more races  \n",
       "Norfolk County, Massachusetts: Summary level: 0...              14175  "
      ]
     },
     "execution_count": 28,
     "metadata": {},
     "output_type": "execute_result"
    }
   ],
   "source": [
    "# for Norfolk, county code = 021\n",
    "acs_norfolk = censusdata.download('acs5', 2015,censusdata.censusgeo([('state', '25'), ('county','021')]), markers_codes)\n",
    "acs_norfolk.columns=markers\n",
    "acs_norfolk"
   ]
  },
  {
   "cell_type": "code",
   "execution_count": 52,
   "metadata": {},
   "outputs": [
    {
     "data": {
      "text/plain": [
       "[687721, 40.9, 88262, 555100, 43069, 564, 66682, 35, 8096, 14175]"
      ]
     },
     "execution_count": 52,
     "metadata": {},
     "output_type": "execute_result"
    }
   ],
   "source": [
    "# I'm still learning to code so let's do this to work with the data easier:\n",
    "data_norfolk = [687721, 40.9 ,88262 ,555100 ,43069 ,564 ,66682 ,35 ,8096 ,14175]\n",
    "data_norfolk"
   ]
  },
  {
   "cell_type": "code",
   "execution_count": 29,
   "metadata": {},
   "outputs": [
    {
     "data": {
      "text/html": [
       "<div>\n",
       "<style scoped>\n",
       "    .dataframe tbody tr th:only-of-type {\n",
       "        vertical-align: middle;\n",
       "    }\n",
       "\n",
       "    .dataframe tbody tr th {\n",
       "        vertical-align: top;\n",
       "    }\n",
       "\n",
       "    .dataframe thead th {\n",
       "        text-align: right;\n",
       "    }\n",
       "</style>\n",
       "<table border=\"1\" class=\"dataframe\">\n",
       "  <thead>\n",
       "    <tr style=\"text-align: right;\">\n",
       "      <th></th>\n",
       "      <th>population size</th>\n",
       "      <th>medium age</th>\n",
       "      <th>medium household income</th>\n",
       "      <th>White alone</th>\n",
       "      <th>Black or African American alone</th>\n",
       "      <th>American Indian and Alaska Native alone</th>\n",
       "      <th>Asian alone</th>\n",
       "      <th>Native Hawaiian and Other Pacific Islander alone</th>\n",
       "      <th>Some other race alone</th>\n",
       "      <th>Two or more races</th>\n",
       "    </tr>\n",
       "  </thead>\n",
       "  <tbody>\n",
       "    <tr>\n",
       "      <th>Suffolk County, Massachusetts: Summary level: 050, state:25&gt; county:025</th>\n",
       "      <td>758919</td>\n",
       "      <td>32.2</td>\n",
       "      <td>55044</td>\n",
       "      <td>421489</td>\n",
       "      <td>169946</td>\n",
       "      <td>2593</td>\n",
       "      <td>65396</td>\n",
       "      <td>107</td>\n",
       "      <td>56190</td>\n",
       "      <td>43198</td>\n",
       "    </tr>\n",
       "  </tbody>\n",
       "</table>\n",
       "</div>"
      ],
      "text/plain": [
       "                                                    population size  \\\n",
       "Suffolk County, Massachusetts: Summary level: 0...           758919   \n",
       "\n",
       "                                                    medium age  \\\n",
       "Suffolk County, Massachusetts: Summary level: 0...        32.2   \n",
       "\n",
       "                                                    medium household income  \\\n",
       "Suffolk County, Massachusetts: Summary level: 0...                    55044   \n",
       "\n",
       "                                                    White alone  \\\n",
       "Suffolk County, Massachusetts: Summary level: 0...       421489   \n",
       "\n",
       "                                                    Black or African American alone  \\\n",
       "Suffolk County, Massachusetts: Summary level: 0...                           169946   \n",
       "\n",
       "                                                    American Indian and Alaska Native alone  \\\n",
       "Suffolk County, Massachusetts: Summary level: 0...                                     2593   \n",
       "\n",
       "                                                    Asian alone  \\\n",
       "Suffolk County, Massachusetts: Summary level: 0...        65396   \n",
       "\n",
       "                                                    Native Hawaiian and Other Pacific Islander alone  \\\n",
       "Suffolk County, Massachusetts: Summary level: 0...                                               107   \n",
       "\n",
       "                                                    Some other race alone  \\\n",
       "Suffolk County, Massachusetts: Summary level: 0...                  56190   \n",
       "\n",
       "                                                    Two or more races  \n",
       "Suffolk County, Massachusetts: Summary level: 0...              43198  "
      ]
     },
     "execution_count": 29,
     "metadata": {},
     "output_type": "execute_result"
    }
   ],
   "source": [
    "# for Suffolk, county code = 025\n",
    "acs_suffolk = censusdata.download('acs5', 2015,censusdata.censusgeo([('state', '25'), ('county','025')]), markers_codes)\n",
    "acs_suffolk.columns=markers\n",
    "acs_suffolk"
   ]
  },
  {
   "cell_type": "code",
   "execution_count": 53,
   "metadata": {},
   "outputs": [
    {
     "data": {
      "text/plain": [
       "[758919, 32.2, 55044, 421489, 169946, 2593, 65396, 107, 56190, 43198]"
      ]
     },
     "execution_count": 53,
     "metadata": {},
     "output_type": "execute_result"
    }
   ],
   "source": [
    "# I'm still learning to code so let's do this to work with the data easier:\n",
    "data_suffolk = [758919 ,32.2 ,55044 ,421489 ,169946 ,2593 ,65396 ,107 ,56190 ,43198]\n",
    "data_suffolk"
   ]
  },
  {
   "cell_type": "code",
   "execution_count": 42,
   "metadata": {},
   "outputs": [
    {
     "data": {
      "text/html": [
       "<div>\n",
       "<style scoped>\n",
       "    .dataframe tbody tr th:only-of-type {\n",
       "        vertical-align: middle;\n",
       "    }\n",
       "\n",
       "    .dataframe tbody tr th {\n",
       "        vertical-align: top;\n",
       "    }\n",
       "\n",
       "    .dataframe thead th {\n",
       "        text-align: right;\n",
       "    }\n",
       "</style>\n",
       "<table border=\"1\" class=\"dataframe\">\n",
       "  <thead>\n",
       "    <tr style=\"text-align: right;\">\n",
       "      <th></th>\n",
       "      <th>population size</th>\n",
       "      <th>medium age</th>\n",
       "      <th>medium household income</th>\n",
       "      <th>White alone</th>\n",
       "      <th>Black or African American alone</th>\n",
       "      <th>American Indian and Alaska Native alone</th>\n",
       "      <th>Asian alone</th>\n",
       "      <th>Native Hawaiian and Other Pacific Islander alone</th>\n",
       "      <th>Some other race alone</th>\n",
       "      <th>Two or more races</th>\n",
       "    </tr>\n",
       "  </thead>\n",
       "  <tbody>\n",
       "    <tr>\n",
       "      <th>Middlesex County, Massachusetts: Summary level: 050, state:25&gt; county:017</th>\n",
       "      <td>1556116</td>\n",
       "      <td>38.5</td>\n",
       "      <td>85118</td>\n",
       "      <td>1230158</td>\n",
       "      <td>75980</td>\n",
       "      <td>2074</td>\n",
       "      <td>163386</td>\n",
       "      <td>424</td>\n",
       "      <td>37162</td>\n",
       "      <td>46932</td>\n",
       "    </tr>\n",
       "  </tbody>\n",
       "</table>\n",
       "</div>"
      ],
      "text/plain": [
       "                                                    population size  \\\n",
       "Middlesex County, Massachusetts: Summary level:...          1556116   \n",
       "\n",
       "                                                    medium age  \\\n",
       "Middlesex County, Massachusetts: Summary level:...        38.5   \n",
       "\n",
       "                                                    medium household income  \\\n",
       "Middlesex County, Massachusetts: Summary level:...                    85118   \n",
       "\n",
       "                                                    White alone  \\\n",
       "Middlesex County, Massachusetts: Summary level:...      1230158   \n",
       "\n",
       "                                                    Black or African American alone  \\\n",
       "Middlesex County, Massachusetts: Summary level:...                            75980   \n",
       "\n",
       "                                                    American Indian and Alaska Native alone  \\\n",
       "Middlesex County, Massachusetts: Summary level:...                                     2074   \n",
       "\n",
       "                                                    Asian alone  \\\n",
       "Middlesex County, Massachusetts: Summary level:...       163386   \n",
       "\n",
       "                                                    Native Hawaiian and Other Pacific Islander alone  \\\n",
       "Middlesex County, Massachusetts: Summary level:...                                               424   \n",
       "\n",
       "                                                    Some other race alone  \\\n",
       "Middlesex County, Massachusetts: Summary level:...                  37162   \n",
       "\n",
       "                                                    Two or more races  \n",
       "Middlesex County, Massachusetts: Summary level:...              46932  "
      ]
     },
     "execution_count": 42,
     "metadata": {},
     "output_type": "execute_result"
    }
   ],
   "source": [
    "# for Middlesex, county code = 017\n",
    "acs_middlesex = censusdata.download('acs5', 2015,censusdata.censusgeo([('state', '25'), ('county','017')]), markers_codes)\n",
    "acs_middlesex.columns=markers\n",
    "acs_middlesex"
   ]
  },
  {
   "cell_type": "code",
   "execution_count": 54,
   "metadata": {},
   "outputs": [
    {
     "data": {
      "text/plain": [
       "[1556116, 38.5, 85118, 1230158, 75980, 2074, 163386, 424, 37162, 46932]"
      ]
     },
     "execution_count": 54,
     "metadata": {},
     "output_type": "execute_result"
    }
   ],
   "source": [
    "# I'm still learning to code so let's do this to work with the data easier:\n",
    "data_middlesex = [1556116 ,38.5, 85118 ,1230158 ,75980 ,2074 ,163386 ,424 ,37162 ,46932]\n",
    "data_middlesex"
   ]
  },
  {
   "cell_type": "markdown",
   "metadata": {},
   "source": [
    "## Make a table with the values you want"
   ]
  },
  {
   "cell_type": "code",
   "execution_count": 74,
   "metadata": {},
   "outputs": [
    {
     "data": {
      "text/html": [
       "<div>\n",
       "<style scoped>\n",
       "    .dataframe tbody tr th:only-of-type {\n",
       "        vertical-align: middle;\n",
       "    }\n",
       "\n",
       "    .dataframe tbody tr th {\n",
       "        vertical-align: top;\n",
       "    }\n",
       "\n",
       "    .dataframe thead th {\n",
       "        text-align: right;\n",
       "    }\n",
       "</style>\n",
       "<table border=\"1\" class=\"dataframe\">\n",
       "  <thead>\n",
       "    <tr style=\"text-align: right;\">\n",
       "      <th></th>\n",
       "      <th>population size</th>\n",
       "      <th>medium age</th>\n",
       "      <th>medium household income</th>\n",
       "      <th>White alone</th>\n",
       "      <th>Black or African American alone</th>\n",
       "      <th>American Indian and Alaska Native alone</th>\n",
       "      <th>Asian alone</th>\n",
       "      <th>Native Hawaiian and Other Pacific Islander alone</th>\n",
       "      <th>Some other race alone</th>\n",
       "      <th>Two or more races</th>\n",
       "    </tr>\n",
       "  </thead>\n",
       "  <tbody>\n",
       "    <tr>\n",
       "      <th>Middlesex</th>\n",
       "      <td>1556116.0</td>\n",
       "      <td>38.5</td>\n",
       "      <td>85118.0</td>\n",
       "      <td>1230158.0</td>\n",
       "      <td>75980.0</td>\n",
       "      <td>2074.0</td>\n",
       "      <td>163386.0</td>\n",
       "      <td>424.0</td>\n",
       "      <td>37162.0</td>\n",
       "      <td>46932.0</td>\n",
       "    </tr>\n",
       "    <tr>\n",
       "      <th>Suffolk</th>\n",
       "      <td>758919.0</td>\n",
       "      <td>32.2</td>\n",
       "      <td>55044.0</td>\n",
       "      <td>421489.0</td>\n",
       "      <td>169946.0</td>\n",
       "      <td>2593.0</td>\n",
       "      <td>65396.0</td>\n",
       "      <td>107.0</td>\n",
       "      <td>56190.0</td>\n",
       "      <td>43198.0</td>\n",
       "    </tr>\n",
       "    <tr>\n",
       "      <th>Norfolk</th>\n",
       "      <td>687721.0</td>\n",
       "      <td>40.9</td>\n",
       "      <td>88262.0</td>\n",
       "      <td>555100.0</td>\n",
       "      <td>43069.0</td>\n",
       "      <td>564.0</td>\n",
       "      <td>66682.0</td>\n",
       "      <td>35.0</td>\n",
       "      <td>8096.0</td>\n",
       "      <td>14175.0</td>\n",
       "    </tr>\n",
       "  </tbody>\n",
       "</table>\n",
       "</div>"
      ],
      "text/plain": [
       "           population size  medium age  medium household income  White alone  \\\n",
       "Middlesex        1556116.0        38.5                  85118.0    1230158.0   \n",
       "Suffolk           758919.0        32.2                  55044.0     421489.0   \n",
       "Norfolk           687721.0        40.9                  88262.0     555100.0   \n",
       "\n",
       "           Black or African American alone  \\\n",
       "Middlesex                          75980.0   \n",
       "Suffolk                           169946.0   \n",
       "Norfolk                            43069.0   \n",
       "\n",
       "           American Indian and Alaska Native alone  Asian alone  \\\n",
       "Middlesex                                   2074.0     163386.0   \n",
       "Suffolk                                     2593.0      65396.0   \n",
       "Norfolk                                      564.0      66682.0   \n",
       "\n",
       "           Native Hawaiian and Other Pacific Islander alone  \\\n",
       "Middlesex                                             424.0   \n",
       "Suffolk                                               107.0   \n",
       "Norfolk                                                35.0   \n",
       "\n",
       "           Some other race alone  Two or more races  \n",
       "Middlesex                37162.0            46932.0  \n",
       "Suffolk                  56190.0            43198.0  \n",
       "Norfolk                   8096.0            14175.0  "
      ]
     },
     "execution_count": 74,
     "metadata": {},
     "output_type": "execute_result"
    }
   ],
   "source": [
    "table_allcounties = pd.DataFrame({\"Middlesex\": data_middlesex , \"Suffolk\": data_suffolk, \"Norfolk\": data_norfolk })\n",
    "table_allcounties = table_allcounties.T\n",
    "\n",
    "table_allcounties.columns= markers\n",
    "table_allcounties"
   ]
  },
  {
   "cell_type": "markdown",
   "metadata": {},
   "source": [
    "# Questions:"
   ]
  },
  {
   "cell_type": "markdown",
   "metadata": {},
   "source": [
    "1. how do we select just the cities grouped by North and South regions from this list?\n",
    "- Joey providing county names for north and south locations\n",
    "- consider weighted average of sorts \n",
    "2. How do we access demographic data (race/ethnicity? - the documentation I'm following suggests this data is published in the centennial census data? code: 'sf1'. \n",
    "- Pranjali will find code for demographic data, which may only be present at county level"
   ]
  },
  {
   "cell_type": "code",
   "execution_count": null,
   "metadata": {},
   "outputs": [],
   "source": []
  }
 ],
 "metadata": {
  "kernelspec": {
   "display_name": "Python [conda env:whw]",
   "language": "python",
   "name": "conda-env-whw-py"
  },
  "language_info": {
   "codemirror_mode": {
    "name": "ipython",
    "version": 3
   },
   "file_extension": ".py",
   "mimetype": "text/x-python",
   "name": "python",
   "nbconvert_exporter": "python",
   "pygments_lexer": "ipython3",
   "version": "3.6.11"
  }
 },
 "nbformat": 4,
 "nbformat_minor": 4
}
