{
 "cells": [
  {
   "cell_type": "markdown",
   "metadata": {},
   "source": [
    "# Finding prediction Power of COVID-19  Cases for deaths\n",
    "Here we load two time series arrays - deaths and confirmed cases.  \n",
    "We calculate the Pearson Coefficient between them as we shift Cases forward by days, to determine the predictive range of Cases for Deaths."
   ]
  },
  {
   "cell_type": "code",
   "execution_count": 1,
   "metadata": {},
   "outputs": [],
   "source": [
    "import datetime\n",
    "from os.path import dirname, join\n",
    "import os\n",
    "import numpy as np\n",
    "import pandas as pd\n",
    "import pdb\n",
    "\n",
    "import matplotlib.pyplot as plt\n",
    "from matplotlib.dates import (DAILY, DateFormatter,\n",
    "                              rrulewrapper, RRuleLocator, drange)"
   ]
  },
  {
   "cell_type": "markdown",
   "metadata": {},
   "source": [
    "## Download the COVID-9 Data from JHU Repository"
   ]
  },
  {
   "cell_type": "code",
   "execution_count": 2,
   "metadata": {},
   "outputs": [
    {
     "name": "stdout",
     "output_type": "stream",
     "text": [
      "Collecting wget\n",
      "  Downloading wget-3.2.zip (10 kB)\n",
      "Building wheels for collected packages: wget\n",
      "  Building wheel for wget (setup.py) ... \u001b[?25ldone\n",
      "\u001b[?25h  Created wheel for wget: filename=wget-3.2-py3-none-any.whl size=9681 sha256=3eea91dea849a37a13032dd06476d5d8fb7adab66fdf08dbd0c3b863c65d5b6b\n",
      "  Stored in directory: /home/jovyan/.cache/pip/wheels/90/1d/93/c863ee832230df5cfc25ca497b3e88e0ee3ea9e44adc46ac62\n",
      "Successfully built wget\n",
      "Installing collected packages: wget\n",
      "Successfully installed wget-3.2\n",
      "processing time_series_covid19_deaths_US.csv\n",
      "100% [......................................................] 1998413 / 1998413processing time_series_covid19_confirmed_US.csv\n",
      "100% [......................................................] 2507437 / 2507437"
     ]
    }
   ],
   "source": [
    "!pip install wget\n",
    "!python collectdata.py"
   ]
  },
  {
   "cell_type": "markdown",
   "metadata": {},
   "source": [
    "## Load the Cases and Deaths csv files into Panda Data Frames"
   ]
  },
  {
   "cell_type": "code",
   "execution_count": 3,
   "metadata": {},
   "outputs": [
    {
     "data": {
      "text/html": [
       "<div>\n",
       "<style scoped>\n",
       "    .dataframe tbody tr th:only-of-type {\n",
       "        vertical-align: middle;\n",
       "    }\n",
       "\n",
       "    .dataframe tbody tr th {\n",
       "        vertical-align: top;\n",
       "    }\n",
       "\n",
       "    .dataframe thead th {\n",
       "        text-align: right;\n",
       "    }\n",
       "</style>\n",
       "<table border=\"1\" class=\"dataframe\">\n",
       "  <thead>\n",
       "    <tr style=\"text-align: right;\">\n",
       "      <th></th>\n",
       "      <th>date</th>\n",
       "      <th>Alabama</th>\n",
       "      <th>Alaska</th>\n",
       "      <th>American Samoa</th>\n",
       "      <th>Arizona</th>\n",
       "      <th>Arkansas</th>\n",
       "      <th>California</th>\n",
       "      <th>Colorado</th>\n",
       "      <th>Connecticut</th>\n",
       "      <th>Delaware</th>\n",
       "      <th>...</th>\n",
       "      <th>Tennessee</th>\n",
       "      <th>Texas</th>\n",
       "      <th>Utah</th>\n",
       "      <th>Vermont</th>\n",
       "      <th>Virgin Islands</th>\n",
       "      <th>Virginia</th>\n",
       "      <th>Washington</th>\n",
       "      <th>West Virginia</th>\n",
       "      <th>Wisconsin</th>\n",
       "      <th>Wyoming</th>\n",
       "    </tr>\n",
       "  </thead>\n",
       "  <tbody>\n",
       "    <tr>\n",
       "      <th>0</th>\n",
       "      <td>20200122</td>\n",
       "      <td>0</td>\n",
       "      <td>0</td>\n",
       "      <td>0</td>\n",
       "      <td>0</td>\n",
       "      <td>0</td>\n",
       "      <td>0</td>\n",
       "      <td>0</td>\n",
       "      <td>0</td>\n",
       "      <td>0</td>\n",
       "      <td>...</td>\n",
       "      <td>0</td>\n",
       "      <td>0</td>\n",
       "      <td>0</td>\n",
       "      <td>0</td>\n",
       "      <td>0</td>\n",
       "      <td>0</td>\n",
       "      <td>0</td>\n",
       "      <td>0</td>\n",
       "      <td>0</td>\n",
       "      <td>0</td>\n",
       "    </tr>\n",
       "    <tr>\n",
       "      <th>1</th>\n",
       "      <td>20200123</td>\n",
       "      <td>0</td>\n",
       "      <td>0</td>\n",
       "      <td>0</td>\n",
       "      <td>0</td>\n",
       "      <td>0</td>\n",
       "      <td>0</td>\n",
       "      <td>0</td>\n",
       "      <td>0</td>\n",
       "      <td>0</td>\n",
       "      <td>...</td>\n",
       "      <td>0</td>\n",
       "      <td>0</td>\n",
       "      <td>0</td>\n",
       "      <td>0</td>\n",
       "      <td>0</td>\n",
       "      <td>0</td>\n",
       "      <td>0</td>\n",
       "      <td>0</td>\n",
       "      <td>0</td>\n",
       "      <td>0</td>\n",
       "    </tr>\n",
       "    <tr>\n",
       "      <th>2</th>\n",
       "      <td>20200124</td>\n",
       "      <td>0</td>\n",
       "      <td>0</td>\n",
       "      <td>0</td>\n",
       "      <td>0</td>\n",
       "      <td>0</td>\n",
       "      <td>0</td>\n",
       "      <td>0</td>\n",
       "      <td>0</td>\n",
       "      <td>0</td>\n",
       "      <td>...</td>\n",
       "      <td>0</td>\n",
       "      <td>0</td>\n",
       "      <td>0</td>\n",
       "      <td>0</td>\n",
       "      <td>0</td>\n",
       "      <td>0</td>\n",
       "      <td>0</td>\n",
       "      <td>0</td>\n",
       "      <td>0</td>\n",
       "      <td>0</td>\n",
       "    </tr>\n",
       "    <tr>\n",
       "      <th>3</th>\n",
       "      <td>20200125</td>\n",
       "      <td>0</td>\n",
       "      <td>0</td>\n",
       "      <td>0</td>\n",
       "      <td>0</td>\n",
       "      <td>0</td>\n",
       "      <td>0</td>\n",
       "      <td>0</td>\n",
       "      <td>0</td>\n",
       "      <td>0</td>\n",
       "      <td>...</td>\n",
       "      <td>0</td>\n",
       "      <td>0</td>\n",
       "      <td>0</td>\n",
       "      <td>0</td>\n",
       "      <td>0</td>\n",
       "      <td>0</td>\n",
       "      <td>0</td>\n",
       "      <td>0</td>\n",
       "      <td>0</td>\n",
       "      <td>0</td>\n",
       "    </tr>\n",
       "    <tr>\n",
       "      <th>4</th>\n",
       "      <td>20200126</td>\n",
       "      <td>0</td>\n",
       "      <td>0</td>\n",
       "      <td>0</td>\n",
       "      <td>0</td>\n",
       "      <td>0</td>\n",
       "      <td>0</td>\n",
       "      <td>0</td>\n",
       "      <td>0</td>\n",
       "      <td>0</td>\n",
       "      <td>...</td>\n",
       "      <td>0</td>\n",
       "      <td>0</td>\n",
       "      <td>0</td>\n",
       "      <td>0</td>\n",
       "      <td>0</td>\n",
       "      <td>0</td>\n",
       "      <td>0</td>\n",
       "      <td>0</td>\n",
       "      <td>0</td>\n",
       "      <td>0</td>\n",
       "    </tr>\n",
       "  </tbody>\n",
       "</table>\n",
       "<p>5 rows × 59 columns</p>\n",
       "</div>"
      ],
      "text/plain": [
       "       date  Alabama  Alaska  American Samoa  Arizona  Arkansas  California  \\\n",
       "0  20200122        0       0               0        0         0           0   \n",
       "1  20200123        0       0               0        0         0           0   \n",
       "2  20200124        0       0               0        0         0           0   \n",
       "3  20200125        0       0               0        0         0           0   \n",
       "4  20200126        0       0               0        0         0           0   \n",
       "\n",
       "   Colorado  Connecticut  Delaware  ...  Tennessee  Texas  Utah  Vermont  \\\n",
       "0         0            0         0  ...          0      0     0        0   \n",
       "1         0            0         0  ...          0      0     0        0   \n",
       "2         0            0         0  ...          0      0     0        0   \n",
       "3         0            0         0  ...          0      0     0        0   \n",
       "4         0            0         0  ...          0      0     0        0   \n",
       "\n",
       "   Virgin Islands  Virginia  Washington  West Virginia  Wisconsin  Wyoming  \n",
       "0               0         0           0              0          0        0  \n",
       "1               0         0           0              0          0        0  \n",
       "2               0         0           0              0          0        0  \n",
       "3               0         0           0              0          0        0  \n",
       "4               0         0           0              0          0        0  \n",
       "\n",
       "[5 rows x 59 columns]"
      ]
     },
     "execution_count": 3,
     "metadata": {},
     "output_type": "execute_result"
    }
   ],
   "source": [
    "# Load the panda dataframes\n",
    "df_cc = pd.read_csv('covid-confirmed.tsv', delimiter='\\t') \n",
    "df_d = pd.read_csv('covid-deaths.tsv', delimiter='\\t') \n",
    "#list(df_d.columns)\n",
    "df_d.head()"
   ]
  },
  {
   "cell_type": "code",
   "execution_count": 4,
   "metadata": {},
   "outputs": [],
   "source": [
    "# Quick Plot of cases and deaths\n",
    "mystate = 'Massachusetts'\n",
    "# tick every 7 day\n",
    "rule = rrulewrapper(DAILY, interval=30)\n",
    "loc = RRuleLocator(rule)\n",
    "formatter = DateFormatter('%m/%d/%y')\n",
    "dates = pd.to_datetime(df_d.date, format='%Y%m%d')\n",
    "y = df_d[mystate]"
   ]
  },
  {
   "cell_type": "code",
   "execution_count": 5,
   "metadata": {},
   "outputs": [
    {
     "data": {
      "image/png": "[encoded data removed]",
      "text/plain": [
       "<Figure size 720x216 with 1 Axes>"
      ]
     },
     "metadata": {
      "needs_background": "light"
     },
     "output_type": "display_data"
    }
   ],
   "source": [
    "fig, ax = plt.subplots(figsize=(10,3))\n",
    "plt.plot_date(dates, y, label='Cumulative Deaths')\n",
    "ax.set_ylabel('deaths')\n",
    "ax.xaxis.set_major_locator(loc)\n",
    "ax.xaxis.set_major_formatter(formatter)\n",
    "ax.xaxis.set_tick_params(rotation=30, labelsize=10)\n",
    "plt.title('Cumulaive Deaths for the state of ' + mystate)\n",
    "plt.show()"
   ]
  },
  {
   "cell_type": "code",
   "execution_count": 6,
   "metadata": {},
   "outputs": [
    {
     "data": {
      "text/plain": [
       "0       0.0\n",
       "1       0.0\n",
       "2       0.0\n",
       "3       0.0\n",
       "4       0.0\n",
       "       ... \n",
       "221    13.0\n",
       "222    11.0\n",
       "223     4.0\n",
       "224     0.0\n",
       "225    17.0\n",
       "Name: Massachusetts, Length: 226, dtype: float64"
      ]
     },
     "execution_count": 6,
     "metadata": {},
     "output_type": "execute_result"
    }
   ],
   "source": [
    "# We want to predict the daily death count based on daily covis-19 case counts \n",
    "state = 'Massachusetts'\n",
    "s_cc = df_cc[state].diff()\n",
    "s_cc[s_cc < 0] = 0\n",
    "s_d = df_d[state].diff()\n",
    "s_d[s_d < 0] = 0\n",
    "s_d= s_d.fillna(0)\n",
    "s_d"
   ]
  },
  {
   "cell_type": "code",
   "execution_count": 7,
   "metadata": {},
   "outputs": [
    {
     "data": {
      "image/png": "[encoded data removed]",
      "text/plain": [
       "<Figure size 720x216 with 1 Axes>"
      ]
     },
     "metadata": {
      "needs_background": "light"
     },
     "output_type": "display_data"
    }
   ],
   "source": [
    "fig= plt.figure(figsize=(10,3))\n",
    "fig.suptitle('Daily Deaths  for ' + state + ' state')\n",
    "plt.plot_date(dates, s_d * 10, label = 'Deaths')  # multiple deaths by 10 for visual clarity\n",
    "plt.plot_date(dates, s_cc, label= 'Cases')\n",
    "plt.legend()\n",
    "plt.show()"
   ]
  },
  {
   "cell_type": "markdown",
   "metadata": {},
   "source": [
    "## Create a graph of value of Pearson Co-efficient as a function of shift in Cases\n",
    "This is to find how many days forward does Cases best predict Deaths"
   ]
  },
  {
   "cell_type": "code",
   "execution_count": 9,
   "metadata": {},
   "outputs": [
    {
     "name": "stdout",
     "output_type": "stream",
     "text": [
      "Highest Pearson Correlation value of  0.82 occurs when Cases shifted forward 7 days\n"
     ]
    }
   ],
   "source": [
    "\n",
    "ar_offset = []\n",
    "ar_psn_r =[]\n",
    "best_doffset = 0 # assume in synch\n",
    "psn_best = -1    # assume pefectly inverted \n",
    "for doffset in range(30):\n",
    "    ar_offset.append(doffset) \n",
    "    s_cc_o = s_cc.shift(periods = doffset, fill_value=0)  # shift Cases forward by doffset days, putting 0's in new slots\n",
    "    psn_r = s_d.corr(s_cc_o) # Calculate Pearson corelation\n",
    "    if psn_r > psn_best:\n",
    "        psn_best = psn_r\n",
    "        best_doffset = doffset\n",
    "    ar_psn_r.append(psn_r) \n",
    "    #print('With ', doffset, ' day shift', psn_r)\n",
    "dates = pd.to_datetime(df_cc.date, format='%Y%m%d')\n",
    "predict = pd.DataFrame()\n",
    "predict[\"Day Offset\"] = ar_offset\n",
    "predict[\"Pearson r\"] = ar_psn_r\n",
    "predict.head()\n",
    "str_rsnbest = \"{:5.2f}\".format(psn_best)\n",
    "str_title = f'Pearsons r vs offset to Cases for the state of {state} (max of {str_rsnbest} at {best_doffset} day offset)'\n",
    "print (f'Highest Pearson Correlation value of {str_rsnbest} occurs when Cases shifted forward {best_doffset} days')"
   ]
  },
  {
   "cell_type": "code",
   "execution_count": 10,
   "metadata": {},
   "outputs": [
    {
     "data": {
      "image/png": "[encoded data removed]",
      "text/plain": [
       "<Figure size 864x216 with 1 Axes>"
      ]
     },
     "metadata": {
      "needs_background": "light"
     },
     "output_type": "display_data"
    }
   ],
   "source": [
    "predict.plot(kind='line', x='Day Offset',    y='Pearson r', figsize=(12,3), title = str_title )\n",
    "plt.show()"
   ]
  },
  {
   "cell_type": "code",
   "execution_count": null,
   "metadata": {},
   "outputs": [],
   "source": []
  }
 ],
 "metadata": {
  "kernelspec": {
   "display_name": "Python [conda env:whw]",
   "language": "python",
   "name": "conda-env-whw-py"
  },
  "language_info": {
   "codemirror_mode": {
    "name": "ipython",
    "version": 3
   },
   "file_extension": ".py",
   "mimetype": "text/x-python",
   "name": "python",
   "nbconvert_exporter": "python",
   "pygments_lexer": "ipython3",
   "version": "3.6.11"
  }
 },
 "nbformat": 4,
 "nbformat_minor": 4
}
